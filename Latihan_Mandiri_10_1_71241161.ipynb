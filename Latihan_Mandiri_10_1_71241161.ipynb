{
  "nbformat": 4,
  "nbformat_minor": 0,
  "metadata": {
    "colab": {
      "provenance": [],
      "authorship_tag": "ABX9TyOJRWRt1hYcPJjBVB3H55Mp",
      "include_colab_link": true
    },
    "kernelspec": {
      "name": "python3",
      "display_name": "Python 3"
    },
    "language_info": {
      "name": "python"
    }
  },
  "cells": [
    {
      "cell_type": "markdown",
      "metadata": {
        "id": "view-in-github",
        "colab_type": "text"
      },
      "source": [
        "<a href=\"https://colab.research.google.com/github/mosesard14/Praktikum-Alpro-Week-11-Moses-Putra-Nidji-Ardiansyah-71241161/blob/main/Latihan_Mandiri_10_1_71241161.ipynb\" target=\"_parent\"><img src=\"https://colab.research.google.com/assets/colab-badge.svg\" alt=\"Open In Colab\"/></a>"
      ]
    },
    {
      "cell_type": "code",
      "execution_count": 9,
      "metadata": {
        "colab": {
          "base_uri": "https://localhost:8080/"
        },
        "id": "ZS5fhroEaspH",
        "outputId": "66303a55-4d55-4d61-8f8f-a17387571144"
      },
      "outputs": [
        {
          "output_type": "stream",
          "name": "stdout",
          "text": [
            "[10, 9, 8]\n"
          ]
        }
      ],
      "source": [
        "def tiga_terbesar(angka):\n",
        "  unik = list(set(angka))\n",
        "  unik.sort(reverse=True)\n",
        "  return unik[:3]\n",
        "angka = [4, 10, 7, 10, 3, 5, 8, 9]\n",
        "print(tiga_terbesar(angka))"
      ]
    }
  ]
}