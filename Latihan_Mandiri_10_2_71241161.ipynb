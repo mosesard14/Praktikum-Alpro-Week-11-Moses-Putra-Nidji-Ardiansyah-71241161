{
  "nbformat": 4,
  "nbformat_minor": 0,
  "metadata": {
    "colab": {
      "provenance": [],
      "authorship_tag": "ABX9TyNao3F8vodcu/WhDVhMdebY",
      "include_colab_link": true
    },
    "kernelspec": {
      "name": "python3",
      "display_name": "Python 3"
    },
    "language_info": {
      "name": "python"
    }
  },
  "cells": [
    {
      "cell_type": "markdown",
      "metadata": {
        "id": "view-in-github",
        "colab_type": "text"
      },
      "source": [
        "<a href=\"https://colab.research.google.com/github/mosesard14/Praktikum-Alpro-Week-11-Moses-Putra-Nidji-Ardiansyah-71241161/blob/main/Latihan_Mandiri_10_2_71241161.ipynb\" target=\"_parent\"><img src=\"https://colab.research.google.com/assets/colab-badge.svg\" alt=\"Open In Colab\"/></a>"
      ]
    },
    {
      "cell_type": "code",
      "execution_count": 6,
      "metadata": {
        "colab": {
          "base_uri": "https://localhost:8080/"
        },
        "id": "nSxPPO0wmUQk",
        "outputId": "4a39c3f5-c312-4b58-f0a4-d68af5e1ed5d"
      },
      "outputs": [
        {
          "output_type": "stream",
          "name": "stdout",
          "text": [
            "Masukkan angka (atau ketik \"done\" untuk selesai):12\n",
            "Masukkan angka (atau ketik \"done\" untuk selesai):3\n",
            "Masukkan angka (atau ketik \"done\" untuk selesai):65\n",
            "Masukkan angka (atau ketik \"done\" untuk selesai):done\n",
            "Rata-rata bilangan yang dimasukkan adalah: 26.666666666666668\n"
          ]
        }
      ],
      "source": [
        "def angka_done():\n",
        "  angka = []\n",
        "\n",
        "  while True:\n",
        "    masuk = input('Masukkan angka (atau ketik \"done\" untuk selesai):')\n",
        "    if masuk.lower() == 'done':\n",
        "      break\n",
        "    try:\n",
        "      nilai = float(masuk)\n",
        "      angka.append(nilai)\n",
        "    except ValueError:\n",
        "      print('Input tidak valid, masukkan bilangan atau \"done\"')\n",
        "  if angka:\n",
        "    rata_rata = sum(angka) / len(angka)\n",
        "    print(f'Rata-rata bilangan yang dimasukkan adalah: {rata_rata}')\n",
        "  else:\n",
        "    print('Tidak ada bilangan yang dimasukkan')\n",
        "angka_done()"
      ]
    }
  ]
}