{
  "nbformat": 4,
  "nbformat_minor": 0,
  "metadata": {
    "colab": {
      "provenance": [],
      "authorship_tag": "ABX9TyOooIj46YNBEve+A1wab3fL",
      "include_colab_link": true
    },
    "kernelspec": {
      "name": "python3",
      "display_name": "Python 3"
    },
    "language_info": {
      "name": "python"
    }
  },
  "cells": [
    {
      "cell_type": "markdown",
      "metadata": {
        "id": "view-in-github",
        "colab_type": "text"
      },
      "source": [
        "<a href=\"https://colab.research.google.com/github/mosesard14/Praktikum-Alpro-Week-11-Moses-Putra-Nidji-Ardiansyah-71241161/blob/main/Latihan_Mandiri_10_3_71241161.ipynb\" target=\"_parent\"><img src=\"https://colab.research.google.com/assets/colab-badge.svg\" alt=\"Open In Colab\"/></a>"
      ]
    },
    {
      "cell_type": "code",
      "execution_count": null,
      "metadata": {
        "id": "pvtbJ_vFtkaV"
      },
      "outputs": [],
      "source": [
        "def kata_unik(nama_file):\n",
        "  with open(nama_file, 'r', encoding='utf-8') as f:\n",
        "    teks = f.read().lower()\n",
        "  kata = teks.split()\n",
        "  unik = set(kata)\n",
        "  print('kata unik dalam file')\n",
        "  for i in sorted(unik):\n",
        "    print(i)\n",
        "nama = input('Masukkan (namafile.txt): ')\n",
        "kata_unik(nama)"
      ]
    }
  ]
}